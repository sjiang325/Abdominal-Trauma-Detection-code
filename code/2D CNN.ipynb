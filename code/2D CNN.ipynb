{
 "cells": [
  {
   "cell_type": "code",
   "execution_count": 1,
   "id": "3e7fca53",
   "metadata": {
    "execution": {
     "iopub.execute_input": "2023-10-05T12:38:18.470192Z",
     "iopub.status.busy": "2023-10-05T12:38:18.469233Z",
     "iopub.status.idle": "2023-10-05T12:38:32.382267Z",
     "shell.execute_reply": "2023-10-05T12:38:32.381360Z"
    },
    "papermill": {
     "duration": 13.920846,
     "end_time": "2023-10-05T12:38:32.384423",
     "exception": false,
     "start_time": "2023-10-05T12:38:18.463577",
     "status": "completed"
    },
    "tags": []
   },
   "outputs": [
    {
     "name": "stderr",
     "output_type": "stream",
     "text": [
      "/opt/conda/lib/python3.10/site-packages/scipy/__init__.py:146: UserWarning: A NumPy version >=1.16.5 and <1.23.0 is required for this version of SciPy (detected version 1.23.5\n",
      "  warnings.warn(f\"A NumPy version >={np_minversion} and <{np_maxversion}\"\n",
      "/opt/conda/lib/python3.10/site-packages/tensorflow_io/python/ops/__init__.py:98: UserWarning: unable to load libtensorflow_io_plugins.so: unable to open file: libtensorflow_io_plugins.so, from paths: ['/opt/conda/lib/python3.10/site-packages/tensorflow_io/python/ops/libtensorflow_io_plugins.so']\n",
      "caused by: ['/opt/conda/lib/python3.10/site-packages/tensorflow_io/python/ops/libtensorflow_io_plugins.so: undefined symbol: _ZN3tsl6StatusC1EN10tensorflow5error4CodeESt17basic_string_viewIcSt11char_traitsIcEENS_14SourceLocationE']\n",
      "  warnings.warn(f\"unable to load libtensorflow_io_plugins.so: {e}\")\n",
      "/opt/conda/lib/python3.10/site-packages/tensorflow_io/python/ops/__init__.py:104: UserWarning: file system plugins are not loaded: unable to open file: libtensorflow_io.so, from paths: ['/opt/conda/lib/python3.10/site-packages/tensorflow_io/python/ops/libtensorflow_io.so']\n",
      "caused by: ['/opt/conda/lib/python3.10/site-packages/tensorflow_io/python/ops/libtensorflow_io.so: undefined symbol: _ZTVN10tensorflow13GcsFileSystemE']\n",
      "  warnings.warn(f\"file system plugins are not loaded: {e}\")\n"
     ]
    }
   ],
   "source": [
    "import numpy as np\n",
    "import pandas as pd\n",
    "import os, random\n",
    "from fastai.vision.all import *\n",
    "from fastai.medical.imaging import *\n",
    "import shutil\n",
    "import pydicom\n",
    "import cv2\n",
    "import glob\n",
    "import time\n",
    "from rsna_2023_atd_metric import score\n",
    "import tqdm\n",
    "\n",
    "from PIL import Image\n",
    "\n",
    "random.seed(1441)"
   ]
  },
  {
   "cell_type": "code",
   "execution_count": 2,
   "id": "cef25511",
   "metadata": {
    "execution": {
     "iopub.execute_input": "2023-10-05T12:38:32.404665Z",
     "iopub.status.busy": "2023-10-05T12:38:32.404028Z",
     "iopub.status.idle": "2023-10-05T12:38:32.409957Z",
     "shell.execute_reply": "2023-10-05T12:38:32.408992Z"
    },
    "papermill": {
     "duration": 0.013087,
     "end_time": "2023-10-05T12:38:32.411583",
     "exception": false,
     "start_time": "2023-10-05T12:38:32.398496",
     "status": "completed"
    },
    "tags": []
   },
   "outputs": [],
   "source": [
    "def standardize_pixel_array(dcm):\n",
    "    \"\"\"\n",
    "    Source : https://www.kaggle.com/competitions/rsna-2023-abdominal-trauma-detection/discussion/427217\n",
    "    \"\"\"\n",
    "    # Correct DICOM pixel_array if PixelRepresentation == 1.\n",
    "    #dcm = pydicom.dcmread(fn)\n",
    "    pixel_array = dcm.pixel_array\n",
    "    if dcm.PixelRepresentation == 1:\n",
    "        bit_shift = dcm.BitsAllocated - dcm.BitsStored\n",
    "        dtype = pixel_array.dtype \n",
    "        pixel_array = (pixel_array << bit_shift).astype(dtype) >>  bit_shift\n",
    "#         pixel_array = pydicom.pixel_data_handlers.util.apply_modality_lut(new_array, dcm)\n",
    "\n",
    "    intercept = float(dcm.RescaleIntercept)\n",
    "    slope = float(dcm.RescaleSlope)\n",
    "    center = int(dcm.WindowCenter)\n",
    "    width = int(dcm.WindowWidth)\n",
    "    low = center - width / 2\n",
    "    high = center + width / 2    \n",
    "    \n",
    "    pixel_array = (pixel_array * slope) + intercept\n",
    "    pixel_array = np.clip(pixel_array, low, high)\n",
    "\n",
    "    return pixel_array"
   ]
  },
  {
   "cell_type": "code",
   "execution_count": 3,
   "id": "1ad4abe2",
   "metadata": {
    "execution": {
     "iopub.execute_input": "2023-10-05T12:38:32.430874Z",
     "iopub.status.busy": "2023-10-05T12:38:32.430640Z",
     "iopub.status.idle": "2023-10-05T12:38:32.436440Z",
     "shell.execute_reply": "2023-10-05T12:38:32.435511Z"
    },
    "papermill": {
     "duration": 0.012812,
     "end_time": "2023-10-05T12:38:32.438076",
     "exception": false,
     "start_time": "2023-10-05T12:38:32.425264",
     "status": "completed"
    },
    "tags": []
   },
   "outputs": [],
   "source": [
    "class MultiHeadModel(Module):\n",
    "    \n",
    "    def __init__(self, body):\n",
    "    \n",
    "        self.body = body\n",
    "        nf = num_features_model(nn.Sequential(*self.body.children()))\n",
    "\n",
    "        self.bowel = create_head(nf, 1)\n",
    "        self.extravasation = create_head(nf, 1)\n",
    "        self.kidney = create_head(nf, 3)\n",
    "        self.liver = create_head(nf, 3)\n",
    "        self.spleen = create_head(nf, 3)\n",
    "        \n",
    "    def forward(self, x):\n",
    "        \n",
    "        y = self.body(x)\n",
    "        bowel = self.bowel(y)\n",
    "        extravasation = self.extravasation(y)\n",
    "        kidney = self.kidney(y)\n",
    "        liver = self.liver(y)\n",
    "        spleen = self.spleen(y)\n",
    "        return [bowel, extravasation, kidney, liver, spleen]"
   ]
  },
  {
   "cell_type": "code",
   "execution_count": 4,
   "id": "6f5c593d",
   "metadata": {
    "execution": {
     "iopub.execute_input": "2023-10-05T12:38:32.448594Z",
     "iopub.status.busy": "2023-10-05T12:38:32.448119Z",
     "iopub.status.idle": "2023-10-05T12:38:32.454102Z",
     "shell.execute_reply": "2023-10-05T12:38:32.453317Z"
    },
    "papermill": {
     "duration": 0.012928,
     "end_time": "2023-10-05T12:38:32.455741",
     "exception": false,
     "start_time": "2023-10-05T12:38:32.442813",
     "status": "completed"
    },
    "tags": []
   },
   "outputs": [],
   "source": [
    "class CombinationLoss(Module):\n",
    "    \"Cross entropy loss on multiple targets\"\n",
    "    def __init__(self, func = F.cross_entropy, weights = [2, 6, 3, 3, 3]):\n",
    "        self.func = func\n",
    "        self.w = weights\n",
    "        \n",
    "    def forward(self, xs, *ys, reduction = 'mean'):\n",
    "        loss = 0\n",
    "    \n",
    "        for i, w, x, y in zip(range(len(xs)), self.w, xs, ys):\n",
    "            if i < 2:\n",
    "                loss += w*F.binary_cross_entropy_with_logits(x, y.unsqueeze(1).float(), reduction = reduction)\n",
    "            else:\n",
    "                #import pdb;pdb.set_trace()\n",
    "                loss += w*F.cross_entropy(x, y, reduction = reduction)\n",
    "        return loss"
   ]
  },
  {
   "cell_type": "code",
   "execution_count": 5,
   "id": "17685416",
   "metadata": {
    "execution": {
     "iopub.execute_input": "2023-10-05T12:38:32.466275Z",
     "iopub.status.busy": "2023-10-05T12:38:32.465618Z",
     "iopub.status.idle": "2023-10-05T12:38:32.473649Z",
     "shell.execute_reply": "2023-10-05T12:38:32.472883Z"
    },
    "papermill": {
     "duration": 0.015018,
     "end_time": "2023-10-05T12:38:32.475345",
     "exception": false,
     "start_time": "2023-10-05T12:38:32.460327",
     "status": "completed"
    },
    "tags": []
   },
   "outputs": [],
   "source": [
    "from sklearn.metrics import recall_score\n",
    "\n",
    "class RecallPartial(Metric):\n",
    "    \"Stores predictions and targets on CPU in accumulate to perform final calculations with `func`.\"\n",
    "    def __init__(self, a=0, **kwargs):\n",
    "        self.func = partial(recall_score, average='macro', zero_division=0)\n",
    "        self.a = a\n",
    "\n",
    "    def reset(self): self.targs,self.preds = [],[]\n",
    "\n",
    "    def accumulate(self, learn):\n",
    "        pred = learn.pred[self.a].argmax(-1)\n",
    "        targ = learn.y[self.a]\n",
    "        pred,targ = to_detach(pred),to_detach(targ)\n",
    "        pred,targ = flatten_check(pred,targ)\n",
    "        self.preds.append(pred)\n",
    "        self.targs.append(targ)\n",
    "\n",
    "    @property\n",
    "    def value(self):\n",
    "        if len(self.preds) == 0: return\n",
    "        preds,targs = torch.cat(self.preds),torch.cat(self.targs)\n",
    "        return self.func(targs, preds)\n",
    "\n",
    "    @property\n",
    "    def name(self): return 'recall_' + str(self.a+1)\n",
    "    \n",
    "class RecallCombine(Metric):\n",
    "    def accumulate(self, learn):\n",
    "        scores = [learn.metrics[i].value for i in range(3)]\n",
    "        self.combine = np.average(scores, weights=[2,1,1])\n",
    "\n",
    "    @property\n",
    "    def value(self):\n",
    "        return self.combine"
   ]
  },
  {
   "cell_type": "code",
   "execution_count": 6,
   "id": "c444fe75",
   "metadata": {
    "execution": {
     "iopub.execute_input": "2023-10-05T12:38:32.494395Z",
     "iopub.status.busy": "2023-10-05T12:38:32.493902Z",
     "iopub.status.idle": "2023-10-05T12:38:39.173121Z",
     "shell.execute_reply": "2023-10-05T12:38:39.172179Z"
    },
    "papermill": {
     "duration": 6.686461,
     "end_time": "2023-10-05T12:38:39.175188",
     "exception": false,
     "start_time": "2023-10-05T12:38:32.488727",
     "status": "completed"
    },
    "tags": []
   },
   "outputs": [],
   "source": [
    "learn = load_learner('/kaggle/input/rsna2023-atd-2d-cnn-image-level-model-2/model_2.pt', cpu = False)"
   ]
  },
  {
   "cell_type": "code",
   "execution_count": 7,
   "id": "394c8e70",
   "metadata": {
    "execution": {
     "iopub.execute_input": "2023-10-05T12:38:39.195327Z",
     "iopub.status.busy": "2023-10-05T12:38:39.194737Z",
     "iopub.status.idle": "2023-10-05T12:38:39.203394Z",
     "shell.execute_reply": "2023-10-05T12:38:39.202380Z"
    },
    "papermill": {
     "duration": 0.015701,
     "end_time": "2023-10-05T12:38:39.205084",
     "exception": false,
     "start_time": "2023-10-05T12:38:39.189383",
     "status": "completed"
    },
    "tags": []
   },
   "outputs": [
    {
     "name": "stdout",
     "output_type": "stream",
     "text": [
      "Number of test patients: 3\n"
     ]
    }
   ],
   "source": [
    "TEST_PATH = '/kaggle/input/rsna-2023-abdominal-trauma-detection/test_images/'\n",
    "SAVE_FOLDER = 'temp_folder/'\n",
    "SIZE = 128\n",
    "STRIDE = 10\n",
    "\n",
    "if not os.path.exists(SAVE_FOLDER):\n",
    "    os.makedirs(SAVE_FOLDER)\n",
    "\n",
    "print('Number of test patients:', len(os.listdir(TEST_PATH)))"
   ]
  },
  {
   "cell_type": "code",
   "execution_count": 8,
   "id": "a7bc4c18",
   "metadata": {
    "execution": {
     "iopub.execute_input": "2023-10-05T12:38:39.224768Z",
     "iopub.status.busy": "2023-10-05T12:38:39.224259Z",
     "iopub.status.idle": "2023-10-05T12:38:39.231038Z",
     "shell.execute_reply": "2023-10-05T12:38:39.230240Z"
    },
    "papermill": {
     "duration": 0.014021,
     "end_time": "2023-10-05T12:38:39.232688",
     "exception": false,
     "start_time": "2023-10-05T12:38:39.218667",
     "status": "completed"
    },
    "tags": []
   },
   "outputs": [],
   "source": [
    "def convert_dicom_to_png(patient, size = 128):\n",
    "    \n",
    "    for study in (sorted(os.listdir(TEST_PATH + patient))):\n",
    "        imgs = {}\n",
    "        for f in sorted(glob.glob(TEST_PATH + f\"{patient}/{study}/*.dcm\"))[::STRIDE]:\n",
    "            \n",
    "            dicom = pydicom.dcmread(f)\n",
    "            pos_z = dicom[(0x20, 0x32)].value[-1]\n",
    "            img = standardize_pixel_array(dicom)\n",
    "            \n",
    "            img = (img - img.min())/(img.max() - img.min() + 1e-6)\n",
    "            imgs[pos_z] = img\n",
    "                \n",
    "        for i, k in enumerate(sorted(imgs.keys())):\n",
    "            \n",
    "            img = imgs[k]\n",
    "            \n",
    "            img = cv2.resize(img, (size, size))\n",
    "            cv2.imwrite(SAVE_FOLDER + f\"{patient}_{study}_{i}.png\", (img * 255).astype(np.uint8))\n",
    "        \n",
    "#_ = Parallel(n_jobs = 2)(\n",
    "#    delayed(convert_dicom_to_png)(patient, size=SIZE)\n",
    "#    for patient in tqdm(os.listdir(TEST_PATH))\n",
    "#    )\n",
    "    "
   ]
  },
  {
   "cell_type": "code",
   "execution_count": 9,
   "id": "1b681d08",
   "metadata": {
    "execution": {
     "iopub.execute_input": "2023-10-05T12:38:39.243488Z",
     "iopub.status.busy": "2023-10-05T12:38:39.242841Z",
     "iopub.status.idle": "2023-10-05T12:38:39.247523Z",
     "shell.execute_reply": "2023-10-05T12:38:39.246725Z"
    },
    "papermill": {
     "duration": 0.011983,
     "end_time": "2023-10-05T12:38:39.249252",
     "exception": false,
     "start_time": "2023-10-05T12:38:39.237269",
     "status": "completed"
    },
    "tags": []
   },
   "outputs": [],
   "source": [
    "def merge_arr(a, b):\n",
    "    return np.concatenate((a, b.numpy()), axis = 0)"
   ]
  },
  {
   "cell_type": "code",
   "execution_count": 10,
   "id": "7809668f",
   "metadata": {
    "execution": {
     "iopub.execute_input": "2023-10-05T12:38:39.268734Z",
     "iopub.status.busy": "2023-10-05T12:38:39.268179Z",
     "iopub.status.idle": "2023-10-05T12:38:45.952691Z",
     "shell.execute_reply": "2023-10-05T12:38:45.951628Z"
    },
    "papermill": {
     "duration": 6.69204,
     "end_time": "2023-10-05T12:38:45.954642",
     "exception": false,
     "start_time": "2023-10-05T12:38:39.262602",
     "status": "completed"
    },
    "tags": []
   },
   "outputs": [
    {
     "data": {
      "text/html": [
       "\n",
       "<style>\n",
       "    /* Turns off some styling */\n",
       "    progress {\n",
       "        /* gets rid of default border in Firefox and Opera. */\n",
       "        border: none;\n",
       "        /* Needs to be in here for Safari polyfill so background images work as expected. */\n",
       "        background-size: auto;\n",
       "    }\n",
       "    progress:not([value]), progress:not([value])::-webkit-progress-bar {\n",
       "        background: repeating-linear-gradient(45deg, #7e7e7e, #7e7e7e 10px, #5c5c5c 10px, #5c5c5c 20px);\n",
       "    }\n",
       "    .progress-bar-interrupted, .progress-bar-interrupted::-webkit-progress-bar {\n",
       "        background: #F44336;\n",
       "    }\n",
       "</style>\n"
      ],
      "text/plain": [
       "<IPython.core.display.HTML object>"
      ]
     },
     "metadata": {},
     "output_type": "display_data"
    },
    {
     "data": {
      "text/html": [],
      "text/plain": [
       "<IPython.core.display.HTML object>"
      ]
     },
     "metadata": {},
     "output_type": "display_data"
    },
    {
     "data": {
      "text/html": [
       "\n",
       "<style>\n",
       "    /* Turns off some styling */\n",
       "    progress {\n",
       "        /* gets rid of default border in Firefox and Opera. */\n",
       "        border: none;\n",
       "        /* Needs to be in here for Safari polyfill so background images work as expected. */\n",
       "        background-size: auto;\n",
       "    }\n",
       "    progress:not([value]), progress:not([value])::-webkit-progress-bar {\n",
       "        background: repeating-linear-gradient(45deg, #7e7e7e, #7e7e7e 10px, #5c5c5c 10px, #5c5c5c 20px);\n",
       "    }\n",
       "    .progress-bar-interrupted, .progress-bar-interrupted::-webkit-progress-bar {\n",
       "        background: #F44336;\n",
       "    }\n",
       "</style>\n"
      ],
      "text/plain": [
       "<IPython.core.display.HTML object>"
      ]
     },
     "metadata": {},
     "output_type": "display_data"
    },
    {
     "data": {
      "text/html": [],
      "text/plain": [
       "<IPython.core.display.HTML object>"
      ]
     },
     "metadata": {},
     "output_type": "display_data"
    },
    {
     "data": {
      "text/html": [
       "\n",
       "<style>\n",
       "    /* Turns off some styling */\n",
       "    progress {\n",
       "        /* gets rid of default border in Firefox and Opera. */\n",
       "        border: none;\n",
       "        /* Needs to be in here for Safari polyfill so background images work as expected. */\n",
       "        background-size: auto;\n",
       "    }\n",
       "    progress:not([value]), progress:not([value])::-webkit-progress-bar {\n",
       "        background: repeating-linear-gradient(45deg, #7e7e7e, #7e7e7e 10px, #5c5c5c 10px, #5c5c5c 20px);\n",
       "    }\n",
       "    .progress-bar-interrupted, .progress-bar-interrupted::-webkit-progress-bar {\n",
       "        background: #F44336;\n",
       "    }\n",
       "</style>\n"
      ],
      "text/plain": [
       "<IPython.core.display.HTML object>"
      ]
     },
     "metadata": {},
     "output_type": "display_data"
    },
    {
     "data": {
      "text/html": [],
      "text/plain": [
       "<IPython.core.display.HTML object>"
      ]
     },
     "metadata": {},
     "output_type": "display_data"
    }
   ],
   "source": [
    "patients = os.listdir(TEST_PATH)\n",
    "\n",
    "bowel_preds, extrav_preds = np.array([]).reshape(0), np.array([]).reshape(0)\n",
    "kidney_preds, liver_preds, spleen_preds = np.array([]).reshape(0, 3), np.array([]).reshape(0, 3), np.array([]).reshape(0, 3)\n",
    "fnames_list = []\n",
    "\n",
    "start = time.time()\n",
    "sigm = torch.nn.Sigmoid()\n",
    "softm = torch.nn.Softmax(dim = 1)\n",
    "\n",
    "for idx, patient in enumerate(patients):\n",
    "    \n",
    "    convert_dicom_to_png(patient, SIZE)\n",
    "    files = get_image_files(SAVE_FOLDER)\n",
    "    test_dl = learn.dls.test_dl(files, with_labels = False, device = 'cuda', bs = 128)\n",
    "\n",
    "    preds = learn.get_preds(dl = test_dl)[0]\n",
    "        \n",
    "    bowel_preds = merge_arr(bowel_preds, sigm(preds[0]).squeeze(-1))\n",
    "    extrav_preds = merge_arr(extrav_preds, sigm(preds[1]).squeeze(-1))\n",
    "    kidney_preds = merge_arr(kidney_preds, softm(preds[2]))\n",
    "    liver_preds = merge_arr(liver_preds, softm(preds[3]))\n",
    "    spleen_preds = merge_arr(spleen_preds, softm(preds[4]))\n",
    "       \n",
    "    fnames_list.append(files)\n",
    "    \n",
    "    for file in files:\n",
    "        os.remove(file)\n",
    "    \n",
    "    if (idx + 1) % 5 == 0:\n",
    "        end = time.time()\n",
    "        print(f'{idx + 1} patients processed.')\n",
    "        print(f'Time elapsed: {end - start} ')\n",
    "        print(f'Avg time per patient: {(end - start)/(idx + 1)}')"
   ]
  },
  {
   "cell_type": "code",
   "execution_count": 11,
   "id": "08a6ac1b",
   "metadata": {
    "execution": {
     "iopub.execute_input": "2023-10-05T12:38:45.977045Z",
     "iopub.status.busy": "2023-10-05T12:38:45.976426Z",
     "iopub.status.idle": "2023-10-05T12:38:45.981671Z",
     "shell.execute_reply": "2023-10-05T12:38:45.980776Z"
    },
    "papermill": {
     "duration": 0.013065,
     "end_time": "2023-10-05T12:38:45.983351",
     "exception": false,
     "start_time": "2023-10-05T12:38:45.970286",
     "status": "completed"
    },
    "tags": []
   },
   "outputs": [],
   "source": [
    "from itertools import chain\n",
    "fnames_list = list(chain.from_iterable(fnames_list))"
   ]
  },
  {
   "cell_type": "code",
   "execution_count": 12,
   "id": "aaa4cc1f",
   "metadata": {
    "execution": {
     "iopub.execute_input": "2023-10-05T12:38:46.005033Z",
     "iopub.status.busy": "2023-10-05T12:38:46.004570Z",
     "iopub.status.idle": "2023-10-05T12:38:46.022629Z",
     "shell.execute_reply": "2023-10-05T12:38:46.021816Z"
    },
    "papermill": {
     "duration": 0.025574,
     "end_time": "2023-10-05T12:38:46.024273",
     "exception": false,
     "start_time": "2023-10-05T12:38:45.998699",
     "status": "completed"
    },
    "tags": []
   },
   "outputs": [],
   "source": [
    "test_files_probs = pd.DataFrame()\n",
    "\n",
    "test_files_probs['fname'] = pd.Series(fnames_list, dtype = 'string')\n",
    "\n",
    "test_files_probs['bowel_injury'] = pd.Series(bowel_preds)\n",
    "test_files_probs['extravasation_injury'] = pd.Series(extrav_preds)\n",
    "test_files_probs['kidney_low'] = pd.Series(kidney_preds[:, 1])\n",
    "test_files_probs['kidney_high'] = pd.Series(kidney_preds[:, 2])\n",
    "test_files_probs['liver_low'] = pd.Series(liver_preds[:, 1])\n",
    "test_files_probs['liver_high'] = pd.Series(liver_preds[:, 2])\n",
    "test_files_probs['spleen_low'] = pd.Series(spleen_preds[:, 1])\n",
    "test_files_probs['spleen_high'] = pd.Series(spleen_preds[:, 2])\n",
    "\n",
    "#test_files_probs"
   ]
  },
  {
   "cell_type": "code",
   "execution_count": 13,
   "id": "e6a587b9",
   "metadata": {
    "execution": {
     "iopub.execute_input": "2023-10-05T12:38:46.035765Z",
     "iopub.status.busy": "2023-10-05T12:38:46.035256Z",
     "iopub.status.idle": "2023-10-05T12:38:46.054277Z",
     "shell.execute_reply": "2023-10-05T12:38:46.053329Z"
    },
    "papermill": {
     "duration": 0.026647,
     "end_time": "2023-10-05T12:38:46.056105",
     "exception": false,
     "start_time": "2023-10-05T12:38:46.029458",
     "status": "completed"
    },
    "tags": []
   },
   "outputs": [
    {
     "data": {
      "text/html": [
       "<div>\n",
       "<style scoped>\n",
       "    .dataframe tbody tr th:only-of-type {\n",
       "        vertical-align: middle;\n",
       "    }\n",
       "\n",
       "    .dataframe tbody tr th {\n",
       "        vertical-align: top;\n",
       "    }\n",
       "\n",
       "    .dataframe thead th {\n",
       "        text-align: right;\n",
       "    }\n",
       "</style>\n",
       "<table border=\"1\" class=\"dataframe\">\n",
       "  <thead>\n",
       "    <tr style=\"text-align: right;\">\n",
       "      <th></th>\n",
       "      <th>fname</th>\n",
       "      <th>bowel_injury</th>\n",
       "      <th>extravasation_injury</th>\n",
       "      <th>kidney_low</th>\n",
       "      <th>kidney_high</th>\n",
       "      <th>liver_low</th>\n",
       "      <th>liver_high</th>\n",
       "      <th>spleen_low</th>\n",
       "      <th>spleen_high</th>\n",
       "    </tr>\n",
       "  </thead>\n",
       "  <tbody>\n",
       "    <tr>\n",
       "      <th>0</th>\n",
       "      <td>temp_folder/63706_39279_0.png</td>\n",
       "      <td>0.001513</td>\n",
       "      <td>0.007261</td>\n",
       "      <td>9.168278e-07</td>\n",
       "      <td>0.000001</td>\n",
       "      <td>3.143820e-07</td>\n",
       "      <td>3.534692e-07</td>\n",
       "      <td>6.240921e-06</td>\n",
       "      <td>0.000002</td>\n",
       "    </tr>\n",
       "    <tr>\n",
       "      <th>1</th>\n",
       "      <td>temp_folder/50046_24574_0.png</td>\n",
       "      <td>0.478940</td>\n",
       "      <td>0.031321</td>\n",
       "      <td>3.017532e-06</td>\n",
       "      <td>0.000131</td>\n",
       "      <td>7.934494e-07</td>\n",
       "      <td>1.840951e-07</td>\n",
       "      <td>3.770563e-06</td>\n",
       "      <td>0.000001</td>\n",
       "    </tr>\n",
       "    <tr>\n",
       "      <th>2</th>\n",
       "      <td>temp_folder/48843_62825_0.png</td>\n",
       "      <td>0.000499</td>\n",
       "      <td>0.004182</td>\n",
       "      <td>1.272889e-06</td>\n",
       "      <td>0.000001</td>\n",
       "      <td>5.496062e-07</td>\n",
       "      <td>5.989269e-07</td>\n",
       "      <td>4.965273e-07</td>\n",
       "      <td>0.000002</td>\n",
       "    </tr>\n",
       "  </tbody>\n",
       "</table>\n",
       "</div>"
      ],
      "text/plain": [
       "                           fname  bowel_injury  extravasation_injury  \\\n",
       "0  temp_folder/63706_39279_0.png      0.001513              0.007261   \n",
       "1  temp_folder/50046_24574_0.png      0.478940              0.031321   \n",
       "2  temp_folder/48843_62825_0.png      0.000499              0.004182   \n",
       "\n",
       "     kidney_low  kidney_high     liver_low    liver_high    spleen_low  \\\n",
       "0  9.168278e-07     0.000001  3.143820e-07  3.534692e-07  6.240921e-06   \n",
       "1  3.017532e-06     0.000131  7.934494e-07  1.840951e-07  3.770563e-06   \n",
       "2  1.272889e-06     0.000001  5.496062e-07  5.989269e-07  4.965273e-07   \n",
       "\n",
       "   spleen_high  \n",
       "0     0.000002  \n",
       "1     0.000001  \n",
       "2     0.000002  "
      ]
     },
     "execution_count": 13,
     "metadata": {},
     "output_type": "execute_result"
    }
   ],
   "source": [
    "test_files_probs.head()"
   ]
  },
  {
   "cell_type": "code",
   "execution_count": 14,
   "id": "7bd39c03",
   "metadata": {
    "execution": {
     "iopub.execute_input": "2023-10-05T12:38:46.079195Z",
     "iopub.status.busy": "2023-10-05T12:38:46.078474Z",
     "iopub.status.idle": "2023-10-05T12:38:46.084133Z",
     "shell.execute_reply": "2023-10-05T12:38:46.083352Z"
    },
    "papermill": {
     "duration": 0.013477,
     "end_time": "2023-10-05T12:38:46.085732",
     "exception": false,
     "start_time": "2023-10-05T12:38:46.072255",
     "status": "completed"
    },
    "tags": []
   },
   "outputs": [],
   "source": [
    "patient_id_list = []\n",
    "for idx, fname in enumerate(test_files_probs['fname']):\n",
    "    patient_id_list.append(fname.split('/')[1].split('_')[0])\n",
    "    \n",
    "test_files_probs['patient_id'] = pd.Series(patient_id_list, dtype = 'string')"
   ]
  },
  {
   "cell_type": "code",
   "execution_count": 15,
   "id": "85673c3c",
   "metadata": {
    "execution": {
     "iopub.execute_input": "2023-10-05T12:38:46.107790Z",
     "iopub.status.busy": "2023-10-05T12:38:46.107559Z",
     "iopub.status.idle": "2023-10-05T12:38:46.155184Z",
     "shell.execute_reply": "2023-10-05T12:38:46.154240Z"
    },
    "papermill": {
     "duration": 0.056119,
     "end_time": "2023-10-05T12:38:46.157351",
     "exception": false,
     "start_time": "2023-10-05T12:38:46.101232",
     "status": "completed"
    },
    "tags": []
   },
   "outputs": [],
   "source": [
    "patients = set(test_files_probs.patient_id)\n",
    "\n",
    "col_names = ['patient_id', 'bowel_healthy', 'bowel_injury',\n",
    "            'extravasation_healthy', 'extravasation_injury',\n",
    "            'kidney_healthy', 'kidney_low', 'kidney_high',\n",
    "            'liver_healthy', 'liver_low', 'liver_high',\n",
    "            'spleen_healthy', 'spleen_low', 'spleen_high']\n",
    "\n",
    "patient_probs = pd.DataFrame([], columns = col_names)\n",
    "    \n",
    "\n",
    "for idx, pat in enumerate(patients):\n",
    "    p = test_files_probs[test_files_probs.patient_id == pat]\n",
    "    \n",
    "    bi = p.bowel_injury.quantile(q = 0.95)\n",
    "    ei = p.extravasation_injury.quantile(q = 0.95)\n",
    "    kl = p.kidney_low.quantile(q = 0.95)\n",
    "    kh = p.kidney_high.quantile(q = 0.95)\n",
    "    ll = p.liver_low.quantile(q = 0.95)\n",
    "    lh = p.liver_high.quantile(q = 0.95)\n",
    "    sl = p.spleen_low.quantile(q = 0.95)\n",
    "    sh = p.spleen_high.quantile(q = 0.95)\n",
    "    \n",
    "    eps = 1e-5\n",
    "    patient_probs.loc[idx] = [str(pat), max(eps, 1 - bi), 2*bi, max(eps, 1 - ei), 6*ei, max(eps, 1 - kl - kh), 2*kl, 4*kh, max(eps, 1 - ll - lh), 2*ll, 4*lh, max(eps, 1 - sl - sh), 2*sl, 4*sh]"
   ]
  },
  {
   "cell_type": "code",
   "execution_count": 16,
   "id": "5528ed5e",
   "metadata": {
    "execution": {
     "iopub.execute_input": "2023-10-05T12:38:46.170485Z",
     "iopub.status.busy": "2023-10-05T12:38:46.169879Z",
     "iopub.status.idle": "2023-10-05T12:38:46.185230Z",
     "shell.execute_reply": "2023-10-05T12:38:46.184149Z"
    },
    "papermill": {
     "duration": 0.023486,
     "end_time": "2023-10-05T12:38:46.187285",
     "exception": false,
     "start_time": "2023-10-05T12:38:46.163799",
     "status": "completed"
    },
    "tags": []
   },
   "outputs": [
    {
     "data": {
      "text/html": [
       "<div>\n",
       "<style scoped>\n",
       "    .dataframe tbody tr th:only-of-type {\n",
       "        vertical-align: middle;\n",
       "    }\n",
       "\n",
       "    .dataframe tbody tr th {\n",
       "        vertical-align: top;\n",
       "    }\n",
       "\n",
       "    .dataframe thead th {\n",
       "        text-align: right;\n",
       "    }\n",
       "</style>\n",
       "<table border=\"1\" class=\"dataframe\">\n",
       "  <thead>\n",
       "    <tr style=\"text-align: right;\">\n",
       "      <th></th>\n",
       "      <th>patient_id</th>\n",
       "      <th>bowel_healthy</th>\n",
       "      <th>bowel_injury</th>\n",
       "      <th>extravasation_healthy</th>\n",
       "      <th>extravasation_injury</th>\n",
       "      <th>kidney_healthy</th>\n",
       "      <th>kidney_low</th>\n",
       "      <th>kidney_high</th>\n",
       "      <th>liver_healthy</th>\n",
       "      <th>liver_low</th>\n",
       "      <th>liver_high</th>\n",
       "      <th>spleen_healthy</th>\n",
       "      <th>spleen_low</th>\n",
       "      <th>spleen_high</th>\n",
       "    </tr>\n",
       "  </thead>\n",
       "  <tbody>\n",
       "    <tr>\n",
       "      <th>0</th>\n",
       "      <td>63706</td>\n",
       "      <td>0.998487</td>\n",
       "      <td>0.003026</td>\n",
       "      <td>0.992739</td>\n",
       "      <td>0.043565</td>\n",
       "      <td>0.999998</td>\n",
       "      <td>0.000002</td>\n",
       "      <td>0.000006</td>\n",
       "      <td>0.999999</td>\n",
       "      <td>6.287640e-07</td>\n",
       "      <td>1.413877e-06</td>\n",
       "      <td>0.999992</td>\n",
       "      <td>1.248184e-05</td>\n",
       "      <td>0.000007</td>\n",
       "    </tr>\n",
       "    <tr>\n",
       "      <th>1</th>\n",
       "      <td>50046</td>\n",
       "      <td>0.521060</td>\n",
       "      <td>0.957880</td>\n",
       "      <td>0.968679</td>\n",
       "      <td>0.187927</td>\n",
       "      <td>0.999866</td>\n",
       "      <td>0.000006</td>\n",
       "      <td>0.000522</td>\n",
       "      <td>0.999999</td>\n",
       "      <td>1.586899e-06</td>\n",
       "      <td>7.363802e-07</td>\n",
       "      <td>0.999995</td>\n",
       "      <td>7.541127e-06</td>\n",
       "      <td>0.000005</td>\n",
       "    </tr>\n",
       "    <tr>\n",
       "      <th>2</th>\n",
       "      <td>48843</td>\n",
       "      <td>0.999501</td>\n",
       "      <td>0.000999</td>\n",
       "      <td>0.995818</td>\n",
       "      <td>0.025095</td>\n",
       "      <td>0.999997</td>\n",
       "      <td>0.000003</td>\n",
       "      <td>0.000005</td>\n",
       "      <td>0.999999</td>\n",
       "      <td>1.099212e-06</td>\n",
       "      <td>2.395708e-06</td>\n",
       "      <td>0.999998</td>\n",
       "      <td>9.930545e-07</td>\n",
       "      <td>0.000007</td>\n",
       "    </tr>\n",
       "  </tbody>\n",
       "</table>\n",
       "</div>"
      ],
      "text/plain": [
       "  patient_id  bowel_healthy  bowel_injury  extravasation_healthy  \\\n",
       "0      63706       0.998487      0.003026               0.992739   \n",
       "1      50046       0.521060      0.957880               0.968679   \n",
       "2      48843       0.999501      0.000999               0.995818   \n",
       "\n",
       "   extravasation_injury  kidney_healthy  kidney_low  kidney_high  \\\n",
       "0              0.043565        0.999998    0.000002     0.000006   \n",
       "1              0.187927        0.999866    0.000006     0.000522   \n",
       "2              0.025095        0.999997    0.000003     0.000005   \n",
       "\n",
       "   liver_healthy     liver_low    liver_high  spleen_healthy    spleen_low  \\\n",
       "0       0.999999  6.287640e-07  1.413877e-06        0.999992  1.248184e-05   \n",
       "1       0.999999  1.586899e-06  7.363802e-07        0.999995  7.541127e-06   \n",
       "2       0.999999  1.099212e-06  2.395708e-06        0.999998  9.930545e-07   \n",
       "\n",
       "   spleen_high  \n",
       "0     0.000007  \n",
       "1     0.000005  \n",
       "2     0.000007  "
      ]
     },
     "execution_count": 16,
     "metadata": {},
     "output_type": "execute_result"
    }
   ],
   "source": [
    "patient_probs.head()"
   ]
  },
  {
   "cell_type": "code",
   "execution_count": 17,
   "id": "09c5679e",
   "metadata": {
    "execution": {
     "iopub.execute_input": "2023-10-05T12:38:46.211201Z",
     "iopub.status.busy": "2023-10-05T12:38:46.210575Z",
     "iopub.status.idle": "2023-10-05T12:38:46.223336Z",
     "shell.execute_reply": "2023-10-05T12:38:46.222442Z"
    },
    "papermill": {
     "duration": 0.020883,
     "end_time": "2023-10-05T12:38:46.225375",
     "exception": false,
     "start_time": "2023-10-05T12:38:46.204492",
     "status": "completed"
    },
    "tags": []
   },
   "outputs": [],
   "source": [
    "sample_submission = pd.read_csv('/kaggle/input/rsna-2023-abdominal-trauma-detection/sample_submission.csv')\n",
    "sample_submission.patient_id = sample_submission.patient_id.astype(str)\n",
    "\n",
    "\n",
    "patient_probs = patient_probs.set_index('patient_id')\n",
    "patient_probs = patient_probs.reindex(index = sample_submission['patient_id'])\n",
    "patient_probs = patient_probs.reset_index()"
   ]
  },
  {
   "cell_type": "code",
   "execution_count": 18,
   "id": "0572387c",
   "metadata": {
    "execution": {
     "iopub.execute_input": "2023-10-05T12:38:46.253009Z",
     "iopub.status.busy": "2023-10-05T12:38:46.252099Z",
     "iopub.status.idle": "2023-10-05T12:38:46.259761Z",
     "shell.execute_reply": "2023-10-05T12:38:46.258759Z"
    },
    "papermill": {
     "duration": 0.016931,
     "end_time": "2023-10-05T12:38:46.261891",
     "exception": false,
     "start_time": "2023-10-05T12:38:46.244960",
     "status": "completed"
    },
    "tags": []
   },
   "outputs": [],
   "source": [
    "patient_probs.to_csv('submission.csv', header = True, index = False)"
   ]
  }
 ],
 "metadata": {
  "kernelspec": {
   "display_name": "Python 3",
   "language": "python",
   "name": "python3"
  },
  "language_info": {
   "codemirror_mode": {
    "name": "ipython",
    "version": 3
   },
   "file_extension": ".py",
   "mimetype": "text/x-python",
   "name": "python",
   "nbconvert_exporter": "python",
   "pygments_lexer": "ipython3",
   "version": "3.10.12"
  },
  "papermill": {
   "default_parameters": {},
   "duration": 39.493202,
   "end_time": "2023-10-05T12:38:50.114077",
   "environment_variables": {},
   "exception": null,
   "input_path": "__notebook__.ipynb",
   "output_path": "__notebook__.ipynb",
   "parameters": {},
   "start_time": "2023-10-05T12:38:10.620875",
   "version": "2.4.0"
  }
 },
 "nbformat": 4,
 "nbformat_minor": 5
}
